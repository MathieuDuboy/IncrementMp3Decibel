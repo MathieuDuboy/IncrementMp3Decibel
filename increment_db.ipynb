{
  "nbformat": 4,
  "nbformat_minor": 0,
  "metadata": {
    "colab": {
      "provenance": [],
      "authorship_tag": "ABX9TyOE4xZ8z5gX+N/klIWj8+LH",
      "include_colab_link": true
    },
    "kernelspec": {
      "name": "python3",
      "display_name": "Python 3"
    },
    "language_info": {
      "name": "python"
    }
  },
  "cells": [
    {
      "cell_type": "markdown",
      "metadata": {
        "id": "view-in-github",
        "colab_type": "text"
      },
      "source": [
        "<a href=\"https://colab.research.google.com/github/MathieuDuboy/IncrementMp3Decibel/blob/main/increment_db.ipynb\" target=\"_parent\"><img src=\"https://colab.research.google.com/assets/colab-badge.svg\" alt=\"Open In Colab\"/></a>"
      ]
    },
    {
      "cell_type": "markdown",
      "source": [
        "**Pré-requis : Installation de ffmpeg**"
      ],
      "metadata": {
        "id": "pgeViSogtA_x"
      }
    },
    {
      "cell_type": "code",
      "execution_count": 6,
      "metadata": {
        "id": "2l1UEIwjs_4j",
        "colab": {
          "base_uri": "https://localhost:8080/"
        },
        "outputId": "9a4bb9fe-a8ce-46e3-d2a2-6ad0ea9d4ebc"
      },
      "outputs": [
        {
          "output_type": "stream",
          "name": "stdout",
          "text": [
            "Reading package lists... Done\n",
            "Building dependency tree... Done\n",
            "Reading state information... Done\n",
            "ffmpeg is already the newest version (7:4.4.2-0ubuntu0.22.04.1).\n",
            "0 upgraded, 0 newly installed, 0 to remove and 18 not upgraded.\n"
          ]
        }
      ],
      "source": [
        "!apt-get install -y ffmpeg"
      ]
    },
    {
      "cell_type": "markdown",
      "source": [
        "**Importations**"
      ],
      "metadata": {
        "id": "x_owJIbItHVZ"
      }
    },
    {
      "cell_type": "code",
      "source": [
        "from IPython import get_ipython\n",
        "from IPython.display import display\n",
        "\n",
        "import os\n",
        "import zipfile\n",
        "import shutil\n",
        "import subprocess\n",
        "import pandas as pd\n",
        "from google.colab import files as colab_files"
      ],
      "metadata": {
        "id": "bulS6GfutVJB"
      },
      "execution_count": 7,
      "outputs": []
    },
    {
      "cell_type": "markdown",
      "source": [
        "**Variables dynamiques à modifier si besoin**"
      ],
      "metadata": {
        "id": "lY4k399-tfSd"
      }
    },
    {
      "cell_type": "code",
      "source": [
        "# Augmentation du volume de XX Db\n",
        "decibel = 1\n",
        "\n",
        "# Dossier de contenus IN et OUT\n",
        "input_folder = \"/content/input_mp3\"\n",
        "output_folder = \"/content/output_mp3\"\n",
        "\n",
        "# Enregistrer les résultats dans un fichier CSV\n",
        "csv_path = \"/content/audio_levels.csv\"\n",
        "\n",
        "# Compresser les fichiers modifiés en un nouveau .zip\n",
        "output_zip = \"/content/output_mp3.zip\""
      ],
      "metadata": {
        "id": "afRha3QFtjmP"
      },
      "execution_count": 8,
      "outputs": []
    },
    {
      "cell_type": "markdown",
      "source": [
        "\n",
        "**Partie du code à jouer à chaque nouveau test**\n",
        "1.   Télécharger le .zip contenant les .mp3\n",
        "2.   Attendre la décompression\n",
        "3.   Un .zip va se télécharger automatiquement ainsi que le .csv\n",
        "\n",
        "\n",
        "\n",
        "\n",
        "\n",
        "\n"
      ],
      "metadata": {
        "id": "7CRpGJotuLpE"
      }
    },
    {
      "cell_type": "code",
      "source": [
        "# Télécharger le fichier .zip contenant les fichiers MP3\n",
        "print(\"Téléchargez le fichier .zip contenant les fichiers MP3 :\")\n",
        "uploaded = colab_files.upload()\n",
        "\n",
        "# Identifier le fichier ZIP téléchargé\n",
        "input_zip = list(uploaded.keys())[0]\n",
        "\n",
        "# Décompresser les fichiers MP3 dans un dossier temporaire\n",
        "os.makedirs(input_folder, exist_ok=True)\n",
        "os.makedirs(output_folder, exist_ok=True)\n",
        "\n",
        "with zipfile.ZipFile(input_zip, 'r') as zip_ref:\n",
        "    zip_ref.extractall(input_folder)\n",
        "\n",
        "# Fonction pour récupérer le niveau sonore (RMS dB) avec FFmpeg\n",
        "def get_audio_loudness(file_path):\n",
        "    command = [\n",
        "        \"ffmpeg\",\n",
        "        \"-i\", file_path,\n",
        "        \"-filter:a\", \"volumedetect\",\n",
        "        \"-f\", \"null\",\n",
        "        \"-\"\n",
        "    ]\n",
        "    result = subprocess.run(command, stderr=subprocess.PIPE, text=True)\n",
        "\n",
        "    for line in result.stderr.split(\"\\n\"):\n",
        "        if \"mean_volume\" in line:\n",
        "            return float(line.split(\":\")[-1].strip().replace(\" dB\", \"\"))\n",
        "    return None\n",
        "\n",
        "# Stocker les résultats\n",
        "data = []\n",
        "\n",
        "# Parcours des fichiers MP3 pour augmenter le son\n",
        "for filename in os.listdir(input_folder):\n",
        "    if filename.endswith(\".mp3\"):\n",
        "        input_path = os.path.join(input_folder, filename)\n",
        "        output_filename = f\"{os.path.splitext(filename)[0]}.mp3\"\n",
        "        output_path = os.path.join(output_folder, output_filename)\n",
        "\n",
        "        # Niveau sonore initial\n",
        "        initial_db = get_audio_loudness(input_path)\n",
        "\n",
        "        # Commande FFmpeg pour augmenter le volume de XXdB tout en conservant les métadonnées\n",
        "        command = [\n",
        "            \"ffmpeg\",\n",
        "            \"-i\", input_path,\n",
        "            \"-filter:a\", \"volume=\" + str(decibel) + \"dB\",\n",
        "            \"-map_metadata\", \"0\",  # Conserver les métadonnées d'origine\n",
        "            output_path\n",
        "        ]\n",
        "        subprocess.run(command)\n",
        "\n",
        "        # Niveau sonore après modification\n",
        "        final_db = get_audio_loudness(output_path)\n",
        "\n",
        "        # Ajouter les infos au tableau\n",
        "        data.append([filename, initial_db, final_db])\n",
        "\n",
        "\n",
        "df = pd.DataFrame(data, columns=[\"Nom du fichier\", \"dB avant\", \"dB après\"])\n",
        "df.to_csv(csv_path, index=False)\n",
        "\n",
        "\n",
        "with zipfile.ZipFile(output_zip, 'w') as zipf:\n",
        "    for root, dirs, files_in_dir in os.walk(output_folder):\n",
        "        for file in files_in_dir:\n",
        "            zipf.write(os.path.join(root, file), arcname=file)\n",
        "\n",
        "# Télécharger le fichier .zip de sortie\n",
        "print(\"Téléchargement du fichier .zip de sortie...\")\n",
        "colab_files.download(output_zip)\n",
        "\n",
        "# Télécharger le fichier CSV des niveaux sonores\n",
        "print(\"Téléchargement du fichier CSV avec les niveaux sonores avant/après...\")\n",
        "colab_files.download(csv_path)"
      ],
      "metadata": {
        "id": "1isLAzEkuwdQ",
        "colab": {
          "base_uri": "https://localhost:8080/",
          "height": 125
        },
        "outputId": "b5d76194-9bb0-42d7-8c5e-0b55e781ef14"
      },
      "execution_count": 11,
      "outputs": [
        {
          "output_type": "stream",
          "name": "stdout",
          "text": [
            "Téléchargez le fichier .zip contenant les fichiers MP3 :\n"
          ]
        },
        {
          "output_type": "display_data",
          "data": {
            "text/plain": [
              "<IPython.core.display.HTML object>"
            ],
            "text/html": [
              "\n",
              "     <input type=\"file\" id=\"files-1b828bce-b9a7-4108-a254-96a52416e017\" name=\"files[]\" multiple disabled\n",
              "        style=\"border:none\" />\n",
              "     <output id=\"result-1b828bce-b9a7-4108-a254-96a52416e017\">\n",
              "      Upload widget is only available when the cell has been executed in the\n",
              "      current browser session. Please rerun this cell to enable.\n",
              "      </output>\n",
              "      <script>// Copyright 2017 Google LLC\n",
              "//\n",
              "// Licensed under the Apache License, Version 2.0 (the \"License\");\n",
              "// you may not use this file except in compliance with the License.\n",
              "// You may obtain a copy of the License at\n",
              "//\n",
              "//      http://www.apache.org/licenses/LICENSE-2.0\n",
              "//\n",
              "// Unless required by applicable law or agreed to in writing, software\n",
              "// distributed under the License is distributed on an \"AS IS\" BASIS,\n",
              "// WITHOUT WARRANTIES OR CONDITIONS OF ANY KIND, either express or implied.\n",
              "// See the License for the specific language governing permissions and\n",
              "// limitations under the License.\n",
              "\n",
              "/**\n",
              " * @fileoverview Helpers for google.colab Python module.\n",
              " */\n",
              "(function(scope) {\n",
              "function span(text, styleAttributes = {}) {\n",
              "  const element = document.createElement('span');\n",
              "  element.textContent = text;\n",
              "  for (const key of Object.keys(styleAttributes)) {\n",
              "    element.style[key] = styleAttributes[key];\n",
              "  }\n",
              "  return element;\n",
              "}\n",
              "\n",
              "// Max number of bytes which will be uploaded at a time.\n",
              "const MAX_PAYLOAD_SIZE = 100 * 1024;\n",
              "\n",
              "function _uploadFiles(inputId, outputId) {\n",
              "  const steps = uploadFilesStep(inputId, outputId);\n",
              "  const outputElement = document.getElementById(outputId);\n",
              "  // Cache steps on the outputElement to make it available for the next call\n",
              "  // to uploadFilesContinue from Python.\n",
              "  outputElement.steps = steps;\n",
              "\n",
              "  return _uploadFilesContinue(outputId);\n",
              "}\n",
              "\n",
              "// This is roughly an async generator (not supported in the browser yet),\n",
              "// where there are multiple asynchronous steps and the Python side is going\n",
              "// to poll for completion of each step.\n",
              "// This uses a Promise to block the python side on completion of each step,\n",
              "// then passes the result of the previous step as the input to the next step.\n",
              "function _uploadFilesContinue(outputId) {\n",
              "  const outputElement = document.getElementById(outputId);\n",
              "  const steps = outputElement.steps;\n",
              "\n",
              "  const next = steps.next(outputElement.lastPromiseValue);\n",
              "  return Promise.resolve(next.value.promise).then((value) => {\n",
              "    // Cache the last promise value to make it available to the next\n",
              "    // step of the generator.\n",
              "    outputElement.lastPromiseValue = value;\n",
              "    return next.value.response;\n",
              "  });\n",
              "}\n",
              "\n",
              "/**\n",
              " * Generator function which is called between each async step of the upload\n",
              " * process.\n",
              " * @param {string} inputId Element ID of the input file picker element.\n",
              " * @param {string} outputId Element ID of the output display.\n",
              " * @return {!Iterable<!Object>} Iterable of next steps.\n",
              " */\n",
              "function* uploadFilesStep(inputId, outputId) {\n",
              "  const inputElement = document.getElementById(inputId);\n",
              "  inputElement.disabled = false;\n",
              "\n",
              "  const outputElement = document.getElementById(outputId);\n",
              "  outputElement.innerHTML = '';\n",
              "\n",
              "  const pickedPromise = new Promise((resolve) => {\n",
              "    inputElement.addEventListener('change', (e) => {\n",
              "      resolve(e.target.files);\n",
              "    });\n",
              "  });\n",
              "\n",
              "  const cancel = document.createElement('button');\n",
              "  inputElement.parentElement.appendChild(cancel);\n",
              "  cancel.textContent = 'Cancel upload';\n",
              "  const cancelPromise = new Promise((resolve) => {\n",
              "    cancel.onclick = () => {\n",
              "      resolve(null);\n",
              "    };\n",
              "  });\n",
              "\n",
              "  // Wait for the user to pick the files.\n",
              "  const files = yield {\n",
              "    promise: Promise.race([pickedPromise, cancelPromise]),\n",
              "    response: {\n",
              "      action: 'starting',\n",
              "    }\n",
              "  };\n",
              "\n",
              "  cancel.remove();\n",
              "\n",
              "  // Disable the input element since further picks are not allowed.\n",
              "  inputElement.disabled = true;\n",
              "\n",
              "  if (!files) {\n",
              "    return {\n",
              "      response: {\n",
              "        action: 'complete',\n",
              "      }\n",
              "    };\n",
              "  }\n",
              "\n",
              "  for (const file of files) {\n",
              "    const li = document.createElement('li');\n",
              "    li.append(span(file.name, {fontWeight: 'bold'}));\n",
              "    li.append(span(\n",
              "        `(${file.type || 'n/a'}) - ${file.size} bytes, ` +\n",
              "        `last modified: ${\n",
              "            file.lastModifiedDate ? file.lastModifiedDate.toLocaleDateString() :\n",
              "                                    'n/a'} - `));\n",
              "    const percent = span('0% done');\n",
              "    li.appendChild(percent);\n",
              "\n",
              "    outputElement.appendChild(li);\n",
              "\n",
              "    const fileDataPromise = new Promise((resolve) => {\n",
              "      const reader = new FileReader();\n",
              "      reader.onload = (e) => {\n",
              "        resolve(e.target.result);\n",
              "      };\n",
              "      reader.readAsArrayBuffer(file);\n",
              "    });\n",
              "    // Wait for the data to be ready.\n",
              "    let fileData = yield {\n",
              "      promise: fileDataPromise,\n",
              "      response: {\n",
              "        action: 'continue',\n",
              "      }\n",
              "    };\n",
              "\n",
              "    // Use a chunked sending to avoid message size limits. See b/62115660.\n",
              "    let position = 0;\n",
              "    do {\n",
              "      const length = Math.min(fileData.byteLength - position, MAX_PAYLOAD_SIZE);\n",
              "      const chunk = new Uint8Array(fileData, position, length);\n",
              "      position += length;\n",
              "\n",
              "      const base64 = btoa(String.fromCharCode.apply(null, chunk));\n",
              "      yield {\n",
              "        response: {\n",
              "          action: 'append',\n",
              "          file: file.name,\n",
              "          data: base64,\n",
              "        },\n",
              "      };\n",
              "\n",
              "      let percentDone = fileData.byteLength === 0 ?\n",
              "          100 :\n",
              "          Math.round((position / fileData.byteLength) * 100);\n",
              "      percent.textContent = `${percentDone}% done`;\n",
              "\n",
              "    } while (position < fileData.byteLength);\n",
              "  }\n",
              "\n",
              "  // All done.\n",
              "  yield {\n",
              "    response: {\n",
              "      action: 'complete',\n",
              "    }\n",
              "  };\n",
              "}\n",
              "\n",
              "scope.google = scope.google || {};\n",
              "scope.google.colab = scope.google.colab || {};\n",
              "scope.google.colab._files = {\n",
              "  _uploadFiles,\n",
              "  _uploadFilesContinue,\n",
              "};\n",
              "})(self);\n",
              "</script> "
            ]
          },
          "metadata": {}
        },
        {
          "output_type": "stream",
          "name": "stdout",
          "text": [
            "Saving output_mp3.zip to output_mp3.zip\n",
            "Téléchargement du fichier .zip de sortie...\n"
          ]
        },
        {
          "output_type": "display_data",
          "data": {
            "text/plain": [
              "<IPython.core.display.Javascript object>"
            ],
            "application/javascript": [
              "\n",
              "    async function download(id, filename, size) {\n",
              "      if (!google.colab.kernel.accessAllowed) {\n",
              "        return;\n",
              "      }\n",
              "      const div = document.createElement('div');\n",
              "      const label = document.createElement('label');\n",
              "      label.textContent = `Downloading \"${filename}\": `;\n",
              "      div.appendChild(label);\n",
              "      const progress = document.createElement('progress');\n",
              "      progress.max = size;\n",
              "      div.appendChild(progress);\n",
              "      document.body.appendChild(div);\n",
              "\n",
              "      const buffers = [];\n",
              "      let downloaded = 0;\n",
              "\n",
              "      const channel = await google.colab.kernel.comms.open(id);\n",
              "      // Send a message to notify the kernel that we're ready.\n",
              "      channel.send({})\n",
              "\n",
              "      for await (const message of channel.messages) {\n",
              "        // Send a message to notify the kernel that we're ready.\n",
              "        channel.send({})\n",
              "        if (message.buffers) {\n",
              "          for (const buffer of message.buffers) {\n",
              "            buffers.push(buffer);\n",
              "            downloaded += buffer.byteLength;\n",
              "            progress.value = downloaded;\n",
              "          }\n",
              "        }\n",
              "      }\n",
              "      const blob = new Blob(buffers, {type: 'application/binary'});\n",
              "      const a = document.createElement('a');\n",
              "      a.href = window.URL.createObjectURL(blob);\n",
              "      a.download = filename;\n",
              "      div.appendChild(a);\n",
              "      a.click();\n",
              "      div.remove();\n",
              "    }\n",
              "  "
            ]
          },
          "metadata": {}
        },
        {
          "output_type": "display_data",
          "data": {
            "text/plain": [
              "<IPython.core.display.Javascript object>"
            ],
            "application/javascript": [
              "download(\"download_8e2744d3-fba3-4416-ba7e-b955c87a3621\", \"output_mp3.zip\", 376306)"
            ]
          },
          "metadata": {}
        },
        {
          "output_type": "stream",
          "name": "stdout",
          "text": [
            "Téléchargement du fichier CSV avec les niveaux sonores avant/après...\n"
          ]
        },
        {
          "output_type": "display_data",
          "data": {
            "text/plain": [
              "<IPython.core.display.Javascript object>"
            ],
            "application/javascript": [
              "\n",
              "    async function download(id, filename, size) {\n",
              "      if (!google.colab.kernel.accessAllowed) {\n",
              "        return;\n",
              "      }\n",
              "      const div = document.createElement('div');\n",
              "      const label = document.createElement('label');\n",
              "      label.textContent = `Downloading \"${filename}\": `;\n",
              "      div.appendChild(label);\n",
              "      const progress = document.createElement('progress');\n",
              "      progress.max = size;\n",
              "      div.appendChild(progress);\n",
              "      document.body.appendChild(div);\n",
              "\n",
              "      const buffers = [];\n",
              "      let downloaded = 0;\n",
              "\n",
              "      const channel = await google.colab.kernel.comms.open(id);\n",
              "      // Send a message to notify the kernel that we're ready.\n",
              "      channel.send({})\n",
              "\n",
              "      for await (const message of channel.messages) {\n",
              "        // Send a message to notify the kernel that we're ready.\n",
              "        channel.send({})\n",
              "        if (message.buffers) {\n",
              "          for (const buffer of message.buffers) {\n",
              "            buffers.push(buffer);\n",
              "            downloaded += buffer.byteLength;\n",
              "            progress.value = downloaded;\n",
              "          }\n",
              "        }\n",
              "      }\n",
              "      const blob = new Blob(buffers, {type: 'application/binary'});\n",
              "      const a = document.createElement('a');\n",
              "      a.href = window.URL.createObjectURL(blob);\n",
              "      a.download = filename;\n",
              "      div.appendChild(a);\n",
              "      a.click();\n",
              "      div.remove();\n",
              "    }\n",
              "  "
            ]
          },
          "metadata": {}
        },
        {
          "output_type": "display_data",
          "data": {
            "text/plain": [
              "<IPython.core.display.Javascript object>"
            ],
            "application/javascript": [
              "download(\"download_e78973fa-f835-457d-a7fb-1539f48f2782\", \"audio_levels.csv\", 564)"
            ]
          },
          "metadata": {}
        }
      ]
    }
  ]
}